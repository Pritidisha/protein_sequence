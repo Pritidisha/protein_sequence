{
 "cells": [
  {
   "cell_type": "code",
   "execution_count": null,
   "id": "d9be7e7c-fd5a-4e70-a032-79518b559786",
   "metadata": {},
   "outputs": [],
   "source": [
    "import csv\n",
    "import numpy as np\n",
    "\n",
    "def needleman_wunsch(seq1, seq2, match=2, mismatch=-1, gap=-0.5):\n",
    "    m, n = len(seq1), len(seq2)\n",
    "    score_matrix = np.zeros((m + 1, n + 1))\n",
    "    \n",
    "    for i in range(m + 1):\n",
    "        score_matrix[i][0] = i * gap\n",
    "    for j in range(n + 1):\n",
    "        score_matrix[0][j] = j * gap\n",
    "\n",
    "    for i in range(1, m + 1):\n",
    "        for j in range(1, n + 1):\n",
    "            if seq1[i - 1] == seq2[j - 1]:\n",
    "                score = match\n",
    "            else:\n",
    "                score = mismatch\n",
    "            score_matrix[i][j] = max(\n",
    "                score_matrix[i - 1][j - 1] + score,\n",
    "                score_matrix[i - 1][j] + gap,\n",
    "                score_matrix[i][j - 1] + gap\n",
    "            )\n",
    "    \n",
    "    alignment_score = score_matrix[m][n]\n",
    "    max_possible_score = min(m, n) * match \n",
    "    similarity_percentage = (alignment_score / max_possible_score) * 100 if max_possible_score != 0 else 0\n",
    "    return max(similarity_percentage, 0)\n",
    "\n",
    "input_sequ\n",
    "top_diseases = []\n",
    "\n",
    "with open('disease.csv', mode='r') as file:\n",
    "    reader = csv.DictReader(file)\n",
    "    for row in reader:\n",
    "        disease = row[\"disease\"]\n",
    "        sequence = row[\"sequence\"]\n",
    "        similarity = needleman_wunsch(input_sequence, sequence)\n",
    "        if similarity > 20:  # Setting a threshold to filter low similarities\n",
    "            top_diseases.append((disease, similarity))\n",
    "\n",
    "top_diseases = sorted(top_diseases, key=lambda x: x[1], reverse=True)[:5]\n",
    "\n",
    "if top_diseases:\n",
    "    for disease, similarity in top_diseases:\n",
    "        print(f\"Person might be prone to {disease} with {similarity:.2f}% similarity.\")\n",
    "else:\n",
    "    print(\"No significant similarity found with any known disease sequences.\")\n"
   ]
  },
  {
   "cell_type": "code",
   "execution_count": null,
   "id": "0a2ebc0f-5a18-4d04-8312-343023ad2823",
   "metadata": {},
   "outputs": [],
   "source": []
  }
 ],
 "metadata": {
  "kernelspec": {
   "display_name": "Python 3 (ipykernel)",
   "language": "python",
   "name": "python3"
  },
  "language_info": {
   "codemirror_mode": {
    "name": "ipython",
    "version": 3
   },
   "file_extension": ".py",
   "mimetype": "text/x-python",
   "name": "python",
   "nbconvert_exporter": "python",
   "pygments_lexer": "ipython3",
   "version": "3.11.7"
  }
 },
 "nbformat": 4,
 "nbformat_minor": 5
}
